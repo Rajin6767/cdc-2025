{
  "cells": [
    {
      "cell_type": "code",
      "execution_count": null,
      "metadata": {},
      "outputs": [],
      "source": [
        "import pandas as pd\n",
        "import numpy as np\n",
        "import os\n",
        "from sklearn.model_selection import train_test_split\n",
        "from sklearn.preprocessing import StandardScaler\n",
        "from sklearn.linear_model import Ridge\n",
        "from sklearn.metrics import mean_squared_error, r2_score\n",
        "import joblib\n",
        "\n",
        "# ===============================\n",
        "# Load datasets (from ../data/)\n",
        "features = pd.read_csv(\"../data/clean_va_price.csv\")\n",
        "labels   = pd.read_csv(\"../data/resilience_metrics.csv\")\n",
        "\n",
        "# Merge on Industry\n",
        "ml_df = pd.merge(features, labels, on=\"Industry\", how=\"inner\")\n",
        "\n",
        "# Drop missing values in important columns\n",
        "ml_df = ml_df.dropna(subset=[\"GrowthRate\", \"Volatility\", \"Baseline\", \"Recovered_Years\"])\n",
        "\n",
        "print(\"✅ Merged dataset shape:\", ml_df.shape)\n",
        "display(ml_df.head())\n",
        "\n",
        "# ===============================\n",
        "# Features + Labels\n",
        "X = ml_df[[\"GrowthRate\", \"Volatility\", \"Baseline\"]].copy()\n",
        "X[\"Growth_x_Volatility\"] = X[\"GrowthRate\"] * X[\"Volatility\"]\n",
        "y = ml_df[\"Recovered_Years\"]\n",
        "\n",
        "# Split train/test\n",
        "X_train, X_test, y_train, y_test = train_test_split(\n",
        "    X, y, test_size=0.2, random_state=42\n",
        ")\n",
        "\n",
        "# Scale features\n",
        "scaler = StandardScaler()\n",
        "X_train_scaled = scaler.fit_transform(X_train)\n",
        "X_test_scaled  = scaler.transform(X_test)\n",
        "\n",
        "# Train ridge regression\n",
        "ridge = Ridge(alpha=1.0)\n",
        "ridge.fit(X_train_scaled, y_train)\n",
        "\n",
        "# Predict + evaluate\n",
        "y_pred = ridge.predict(X_test_scaled)\n",
        "\n",
        "print(\"\\n--- Ridge Regression Results ---\")\n",
        "print(\"MSE:\", mean_squared_error(y_test, y_pred))\n",
        "print(\"R² :\", r2_score(y_test, y_pred))\n",
        "\n",
        "results = pd.DataFrame({\"Actual\": y_test, \"Predicted\": y_pred})\n",
        "display(results.head(10))\n",
        "\n",
        "# ===============================\n",
        "# Save model + scaler (into ../models/)\n",
        "os.makedirs(\"../models\", exist_ok=True)\n",
        "joblib.dump(ridge, \"../models/ridge_model.pkl\")\n",
        "joblib.dump(scaler, \"../models/scaler.pkl\")\n",
        "print(\"✅ ridge_model.pkl and scaler.pkl saved in ../models/\")\n"
      ]
    }
  ],
  "metadata": {
    "colab": {
      "provenance": []
    },
    "kernelspec": {
      "display_name": "Python 3",
      "name": "python3"
    },
    "language_info": {
      "codemirror_mode": {
        "name": "ipython",
        "version": 3
      },
      "file_extension": ".py",
      "mimetype": "text/x-python",
      "name": "python",
      "nbconvert_exporter": "python",
      "pygments_lexer": "ipython3",
      "version": "3.12.6"
    }
  },
  "nbformat": 4,
  "nbformat_minor": 0
}
